{
 "cells": [
  {
   "cell_type": "markdown",
   "metadata": {},
   "source": [
    "# Homework 1. Exploratory Data Analysis\n",
    "\n",
    "Due: Thursday, September 18, 2014 11:59 PM\n",
    "\n",
    "<a href=https://raw.githubusercontent.com/cs109/2014/master/homework/HW1.ipynb download=HW1.ipynb> Download this assignment</a>\n",
    "\n",
    "---"
   ]
  },
  {
   "cell_type": "markdown",
   "metadata": {},
   "source": [
    "## Introduction\n",
    "\n",
    "In this homework we ask you three questions that we expect you to answer using data. For each question we ask you to complete a series of tasks that should help guide you through the data analysis. Complete these tasks and then write a short (100 words or less) answer to the question.\n",
    "\n",
    "**Note**: We will briefly discuss this homework assignment on Thursday in class.\n",
    "\n",
    "#### Data\n",
    "For this assignment we will use two databases: \n",
    "\n",
    "1. The [Sean Lahman's Baseball Database](http://seanlahman.com/baseball-archive/statistics) which contains the \"complete batting and pitching statistics from 1871 to 2013, plus fielding statistics, standings, team stats, managerial records, post-season data, and more. For more details on the latest release, please [read the documentation](http://seanlahman.com/files/database/readme2012.txt).\"\n",
    "\n",
    "2. [Gapminder](http://www.gapminder.org) is a great resource that contains over [500 data sets](http://www.gapminder.org/data/) related to world indicators such as income, GDP and life expectancy. \n",
    "\n",
    "\n",
    "#### Purpose\n",
    "\n",
    "In this assignment, you will learn how to: \n",
    "\n",
    "a. Load in CSV files from the web. \n",
    "\n",
    "b. Create functions in python. \n",
    "\n",
    "C. Create plots and summary statistics for exploratory data analysis such as histograms, boxplots and scatter plots. \n",
    "\n",
    "\n",
    "#### Useful libraries for this assignment \n",
    "\n",
    "* [numpy](http://docs.scipy.org/doc/numpy-dev/user/index.html), for arrays\n",
    "* [pandas](http://pandas.pydata.org/), for data frames\n",
    "* [matplotlib](http://matplotlib.org/), for plotting\n",
    "\n",
    "---"
   ]
  },
  {
   "cell_type": "code",
   "execution_count": 4,
   "metadata": {},
   "outputs": [],
   "source": [
    "# special IPython command to prepare the notebook for matplotlib\n",
    "%matplotlib inline \n",
    "\n",
    "import numpy as np\n",
    "import pandas as pd\n",
    "import matplotlib.pyplot as plt"
   ]
  },
  {
   "cell_type": "markdown",
   "metadata": {},
   "source": [
    "## Problem 1\n",
    "\n",
    "In Lecture 1, we showed a plot that provided evidence that the 2002 and 2003 Oakland A's, a team that used data science, had a competitive advantage. Since, others teams have started using data science as well. Use exploratory data analysis to determine if the competitive advantage has since disappeared. "
   ]
  },
  {
   "cell_type": "markdown",
   "metadata": {},
   "source": [
    "#### Problem 1(a) \n",
    "Load in [these CSV files](http://seanlahman.com/files/database/lahman-csv_2014-02-14.zip) from the [Sean Lahman's Baseball Database](http://seanlahman.com/baseball-archive/statistics). For this assignment, we will use the 'Salaries.csv' and 'Teams.csv' tables. Read these tables into a pandas `DataFrame` and show the head of each table. \n",
    "\n",
    "**Hint** Use the [requests](http://docs.python-requests.org/en/latest/), [StringIO](http://docs.python.org/2/library/stringio.html) and [zipfile](https://docs.python.org/2/library/zipfile.html) modules to get from the web.  "
   ]
  },
  {
   "cell_type": "code",
   "execution_count": 4,
   "metadata": {},
   "outputs": [],
   "source": [
    "#your code here\n",
    "from io import BytesIO\n",
    "from zipfile import ZipFile\n",
    "import requests\n",
    "# or: requests.get(url).content\n",
    "\n",
    "resp = requests.get(\"http://seanlahman.com/files/database/lahman-csv_2014-02-14.zip\").content\n",
    "zipfile = ZipFile(BytesIO(resp))\n"
   ]
  },
  {
   "cell_type": "code",
   "execution_count": 5,
   "metadata": {},
   "outputs": [
    {
     "data": {
      "text/html": [
       "<div>\n",
       "<style scoped>\n",
       "    .dataframe tbody tr th:only-of-type {\n",
       "        vertical-align: middle;\n",
       "    }\n",
       "\n",
       "    .dataframe tbody tr th {\n",
       "        vertical-align: top;\n",
       "    }\n",
       "\n",
       "    .dataframe thead th {\n",
       "        text-align: right;\n",
       "    }\n",
       "</style>\n",
       "<table border=\"1\" class=\"dataframe\">\n",
       "  <thead>\n",
       "    <tr style=\"text-align: right;\">\n",
       "      <th></th>\n",
       "      <th>yearID</th>\n",
       "      <th>teamID</th>\n",
       "      <th>lgID</th>\n",
       "      <th>playerID</th>\n",
       "      <th>salary</th>\n",
       "    </tr>\n",
       "  </thead>\n",
       "  <tbody>\n",
       "    <tr>\n",
       "      <th>0</th>\n",
       "      <td>1985</td>\n",
       "      <td>BAL</td>\n",
       "      <td>AL</td>\n",
       "      <td>murraed02</td>\n",
       "      <td>1472819</td>\n",
       "    </tr>\n",
       "    <tr>\n",
       "      <th>1</th>\n",
       "      <td>1985</td>\n",
       "      <td>BAL</td>\n",
       "      <td>AL</td>\n",
       "      <td>lynnfr01</td>\n",
       "      <td>1090000</td>\n",
       "    </tr>\n",
       "    <tr>\n",
       "      <th>2</th>\n",
       "      <td>1985</td>\n",
       "      <td>BAL</td>\n",
       "      <td>AL</td>\n",
       "      <td>ripkeca01</td>\n",
       "      <td>800000</td>\n",
       "    </tr>\n",
       "    <tr>\n",
       "      <th>3</th>\n",
       "      <td>1985</td>\n",
       "      <td>BAL</td>\n",
       "      <td>AL</td>\n",
       "      <td>lacyle01</td>\n",
       "      <td>725000</td>\n",
       "    </tr>\n",
       "    <tr>\n",
       "      <th>4</th>\n",
       "      <td>1985</td>\n",
       "      <td>BAL</td>\n",
       "      <td>AL</td>\n",
       "      <td>flanami01</td>\n",
       "      <td>641667</td>\n",
       "    </tr>\n",
       "  </tbody>\n",
       "</table>\n",
       "</div>"
      ],
      "text/plain": [
       "   yearID teamID lgID   playerID   salary\n",
       "0    1985    BAL   AL  murraed02  1472819\n",
       "1    1985    BAL   AL   lynnfr01  1090000\n",
       "2    1985    BAL   AL  ripkeca01   800000\n",
       "3    1985    BAL   AL   lacyle01   725000\n",
       "4    1985    BAL   AL  flanami01   641667"
      ]
     },
     "execution_count": 5,
     "metadata": {},
     "output_type": "execute_result"
    }
   ],
   "source": [
    "df_salaries = pd.read_csv(zipfile.open(\"Salaries.csv\"))    \n",
    "df_salaries.head()\n"
   ]
  },
  {
   "cell_type": "code",
   "execution_count": 6,
   "metadata": {},
   "outputs": [
    {
     "data": {
      "text/html": [
       "<div>\n",
       "<style scoped>\n",
       "    .dataframe tbody tr th:only-of-type {\n",
       "        vertical-align: middle;\n",
       "    }\n",
       "\n",
       "    .dataframe tbody tr th {\n",
       "        vertical-align: top;\n",
       "    }\n",
       "\n",
       "    .dataframe thead th {\n",
       "        text-align: right;\n",
       "    }\n",
       "</style>\n",
       "<table border=\"1\" class=\"dataframe\">\n",
       "  <thead>\n",
       "    <tr style=\"text-align: right;\">\n",
       "      <th></th>\n",
       "      <th>yearID</th>\n",
       "      <th>teamID</th>\n",
       "      <th>W</th>\n",
       "    </tr>\n",
       "  </thead>\n",
       "  <tbody>\n",
       "    <tr>\n",
       "      <th>0</th>\n",
       "      <td>1871</td>\n",
       "      <td>PH1</td>\n",
       "      <td>21</td>\n",
       "    </tr>\n",
       "    <tr>\n",
       "      <th>1</th>\n",
       "      <td>1871</td>\n",
       "      <td>CH1</td>\n",
       "      <td>19</td>\n",
       "    </tr>\n",
       "    <tr>\n",
       "      <th>2</th>\n",
       "      <td>1871</td>\n",
       "      <td>BS1</td>\n",
       "      <td>20</td>\n",
       "    </tr>\n",
       "    <tr>\n",
       "      <th>3</th>\n",
       "      <td>1871</td>\n",
       "      <td>WS3</td>\n",
       "      <td>15</td>\n",
       "    </tr>\n",
       "    <tr>\n",
       "      <th>4</th>\n",
       "      <td>1871</td>\n",
       "      <td>NY2</td>\n",
       "      <td>16</td>\n",
       "    </tr>\n",
       "  </tbody>\n",
       "</table>\n",
       "</div>"
      ],
      "text/plain": [
       "   yearID teamID   W\n",
       "0    1871    PH1  21\n",
       "1    1871    CH1  19\n",
       "2    1871    BS1  20\n",
       "3    1871    WS3  15\n",
       "4    1871    NY2  16"
      ]
     },
     "execution_count": 6,
     "metadata": {},
     "output_type": "execute_result"
    }
   ],
   "source": [
    "\n",
    "df_teams = pd.read_csv(zipfile.open(\"Teams.csv\"))\n",
    "df_teams = df_teams[[\"yearID\", \"teamID\", \"W\"]]\n",
    "df_teams.head()\n",
    "\n",
    "#df_teams[df_teams[\"teamID\"] == \"ANA\"] #to show all data where teamID is ANA\n",
    "\n",
    "\n",
    "#below code to display the team-name corresponding to team Id\n",
    "#print(df_teams.columns)\n",
    "#df_teams_names = pd.read_csv(zipfile.open(\"Teams.csv\"))\n",
    "#df_teams_names = df_teams_names[[\"teamID\", \"name\"]]\n",
    "#print(df_teams_names)"
   ]
  },
  {
   "cell_type": "markdown",
   "metadata": {},
   "source": [
    "#### Problem 1(b)\n",
    "\n",
    "Summarize the Salaries DataFrame to show the total salaries for each team for each year. Show the head of the new summarized DataFrame. "
   ]
  },
  {
   "cell_type": "code",
   "execution_count": 7,
   "metadata": {},
   "outputs": [
    {
     "data": {
      "text/html": [
       "<div>\n",
       "<style scoped>\n",
       "    .dataframe tbody tr th:only-of-type {\n",
       "        vertical-align: middle;\n",
       "    }\n",
       "\n",
       "    .dataframe tbody tr th {\n",
       "        vertical-align: top;\n",
       "    }\n",
       "\n",
       "    .dataframe thead th {\n",
       "        text-align: right;\n",
       "    }\n",
       "</style>\n",
       "<table border=\"1\" class=\"dataframe\">\n",
       "  <thead>\n",
       "    <tr style=\"text-align: right;\">\n",
       "      <th></th>\n",
       "      <th>teamID</th>\n",
       "      <th>yearID</th>\n",
       "      <th>salary</th>\n",
       "    </tr>\n",
       "  </thead>\n",
       "  <tbody>\n",
       "    <tr>\n",
       "      <th>0</th>\n",
       "      <td>ANA</td>\n",
       "      <td>1997</td>\n",
       "      <td>31135472</td>\n",
       "    </tr>\n",
       "    <tr>\n",
       "      <th>1</th>\n",
       "      <td>ANA</td>\n",
       "      <td>1998</td>\n",
       "      <td>41281000</td>\n",
       "    </tr>\n",
       "    <tr>\n",
       "      <th>2</th>\n",
       "      <td>ANA</td>\n",
       "      <td>1999</td>\n",
       "      <td>55388166</td>\n",
       "    </tr>\n",
       "    <tr>\n",
       "      <th>3</th>\n",
       "      <td>ANA</td>\n",
       "      <td>2000</td>\n",
       "      <td>51464167</td>\n",
       "    </tr>\n",
       "    <tr>\n",
       "      <th>4</th>\n",
       "      <td>ANA</td>\n",
       "      <td>2001</td>\n",
       "      <td>47535167</td>\n",
       "    </tr>\n",
       "  </tbody>\n",
       "</table>\n",
       "</div>"
      ],
      "text/plain": [
       "  teamID  yearID    salary\n",
       "0    ANA    1997  31135472\n",
       "1    ANA    1998  41281000\n",
       "2    ANA    1999  55388166\n",
       "3    ANA    2000  51464167\n",
       "4    ANA    2001  47535167"
      ]
     },
     "execution_count": 7,
     "metadata": {},
     "output_type": "execute_result"
    }
   ],
   "source": [
    "#your code here\n",
    "#print(df_salaries.dtypes)\n",
    "df_team_salary_by_year = df_salaries.groupby([\"teamID\", \"yearID\"], as_index=False).sum()\n",
    "df_team_salary_by_year.head()"
   ]
  },
  {
   "cell_type": "markdown",
   "metadata": {},
   "source": [
    "#### Problem 1(c)\n",
    "\n",
    "Merge the new summarized Salaries DataFrame and Teams DataFrame together to create a new DataFrame\n",
    "showing wins and total salaries for each team for each year year. Show the head of the new merged DataFrame.\n",
    "\n",
    "**Hint**: Merge the DataFrames using `teamID` and `yearID`."
   ]
  },
  {
   "cell_type": "code",
   "execution_count": 8,
   "metadata": {},
   "outputs": [
    {
     "data": {
      "text/html": [
       "<div>\n",
       "<style scoped>\n",
       "    .dataframe tbody tr th:only-of-type {\n",
       "        vertical-align: middle;\n",
       "    }\n",
       "\n",
       "    .dataframe tbody tr th {\n",
       "        vertical-align: top;\n",
       "    }\n",
       "\n",
       "    .dataframe thead th {\n",
       "        text-align: right;\n",
       "    }\n",
       "</style>\n",
       "<table border=\"1\" class=\"dataframe\">\n",
       "  <thead>\n",
       "    <tr style=\"text-align: right;\">\n",
       "      <th></th>\n",
       "      <th>teamID</th>\n",
       "      <th>yearID</th>\n",
       "      <th>salary</th>\n",
       "      <th>W</th>\n",
       "    </tr>\n",
       "  </thead>\n",
       "  <tbody>\n",
       "    <tr>\n",
       "      <th>0</th>\n",
       "      <td>ANA</td>\n",
       "      <td>1997</td>\n",
       "      <td>31135472</td>\n",
       "      <td>84</td>\n",
       "    </tr>\n",
       "    <tr>\n",
       "      <th>1</th>\n",
       "      <td>ANA</td>\n",
       "      <td>1998</td>\n",
       "      <td>41281000</td>\n",
       "      <td>85</td>\n",
       "    </tr>\n",
       "    <tr>\n",
       "      <th>2</th>\n",
       "      <td>ANA</td>\n",
       "      <td>1999</td>\n",
       "      <td>55388166</td>\n",
       "      <td>70</td>\n",
       "    </tr>\n",
       "    <tr>\n",
       "      <th>3</th>\n",
       "      <td>ANA</td>\n",
       "      <td>2000</td>\n",
       "      <td>51464167</td>\n",
       "      <td>82</td>\n",
       "    </tr>\n",
       "    <tr>\n",
       "      <th>4</th>\n",
       "      <td>ANA</td>\n",
       "      <td>2001</td>\n",
       "      <td>47535167</td>\n",
       "      <td>75</td>\n",
       "    </tr>\n",
       "  </tbody>\n",
       "</table>\n",
       "</div>"
      ],
      "text/plain": [
       "  teamID  yearID    salary   W\n",
       "0    ANA    1997  31135472  84\n",
       "1    ANA    1998  41281000  85\n",
       "2    ANA    1999  55388166  70\n",
       "3    ANA    2000  51464167  82\n",
       "4    ANA    2001  47535167  75"
      ]
     },
     "execution_count": 8,
     "metadata": {},
     "output_type": "execute_result"
    }
   ],
   "source": [
    "#your code here\n",
    "result_merged_df = pd.merge(df_team_salary_by_year, df_teams, on=['teamID','yearID'])\n",
    "result_merged_df.head()\n",
    "#df_teams[\"teamID\"].join(df_team_salary_by_year[\"yearID\"],on=\"teamID\")\n",
    "                                                                         "
   ]
  },
  {
   "cell_type": "markdown",
   "metadata": {},
   "source": [
    "#### Problem 1(d)\n",
    "\n",
    "How would you graphically display the relationship between total wins and total salaries for a given year? What kind of plot would be best? Choose a plot to show this relationship and specifically annotate the Oakland baseball team on the on the plot. Show this plot across multiple years. In which years can you detect a competitive advantage from the Oakland baseball team of using data science? When did this end? \n",
    "\n",
    "**Hints**: Use a `for` loop to consider multiple years. Use the `teamID` (three letter representation of the team name) to save space on the plot.  "
   ]
  },
  {
   "cell_type": "code",
   "execution_count": 7,
   "metadata": {
    "scrolled": false
   },
   "outputs": [
    {
     "data": {
      "image/png": "[encoded data removed]",
      "text/plain": [
       "<Figure size 432x288 with 1 Axes>"
      ]
     },
     "metadata": {},
     "output_type": "display_data"
    },
    {
     "data": {
      "image/png": "[encoded data removed]",
      "text/plain": [
       "<Figure size 432x288 with 1 Axes>"
      ]
     },
     "metadata": {},
     "output_type": "display_data"
    },
    {
     "data": {
      "image/png": "[encoded data removed]",
      "text/plain": [
       "<Figure size 432x288 with 1 Axes>"
      ]
     },
     "metadata": {},
     "output_type": "display_data"
    },
    {
     "data": {
      "image/png": "[encoded data removed]",
      "text/plain": [
       "<Figure size 432x288 with 1 Axes>"
      ]
     },
     "metadata": {},
     "output_type": "display_data"
    },
    {
     "data": {
      "image/png": "[encoded data removed]",
      "text/plain": [
       "<Figure size 432x288 with 1 Axes>"
      ]
     },
     "metadata": {},
     "output_type": "display_data"
    },
    {
     "data": {
      "image/png": "[encoded data removed]",
      "text/plain": [
       "<Figure size 432x288 with 1 Axes>"
      ]
     },
     "metadata": {},
     "output_type": "display_data"
    },
    {
     "data": {
      "image/png": "[encoded data removed]",
      "text/plain": [
       "<Figure size 432x288 with 1 Axes>"
      ]
     },
     "metadata": {},
     "output_type": "display_data"
    },
    {
     "data": {
      "image/png": "[encoded data removed]",
      "text/plain": [
       "<Figure size 432x288 with 1 Axes>"
      ]
     },
     "metadata": {},
     "output_type": "display_data"
    },
    {
     "data": {
      "image/png": "[encoded data removed]",
      "text/plain": [
       "<Figure size 432x288 with 1 Axes>"
      ]
     },
     "metadata": {},
     "output_type": "display_data"
    },
    {
     "data": {
      "image/png": "[encoded data removed]",
      "text/plain": [
       "<Figure size 432x288 with 1 Axes>"
      ]
     },
     "metadata": {},
     "output_type": "display_data"
    },
    {
     "data": {
      "image/png": "[encoded data removed]",
      "text/plain": [
       "<Figure size 432x288 with 1 Axes>"
      ]
     },
     "metadata": {},
     "output_type": "display_data"
    },
    {
     "data": {
      "image/png": "[encoded data removed]",
      "text/plain": [
       "<Figure size 432x288 with 1 Axes>"
      ]
     },
     "metadata": {},
     "output_type": "display_data"
    },
    {
     "data": {
      "image/png": "[encoded data removed]",
      "text/plain": [
       "<Figure size 432x288 with 1 Axes>"
      ]
     },
     "metadata": {},
     "output_type": "display_data"
    }
   ],
   "source": [
    "#your code here\n",
    "teamName = \"OAK\"\n",
    "for y in range(2000,2013):\n",
    "    plt.title('Wins versus Salaries in year ' + str(y))\n",
    "    df_new = result_merged_df[result_merged_df[\"yearID\"]==y]\n",
    "    plt.grid\n",
    "    plt.scatter(df_new.salary/1e6, df_new.W)\n",
    "    plt.title('Wins versus Salaries in year ' + str(y))\n",
    "    plt.xlabel('Total Salary (in millions)')\n",
    "    plt.ylabel('Wins')\n",
    "    plt.xlim(0, 180)\n",
    "    plt.ylim(30, 130)\n",
    "    plt.grid()\n",
    "    \n",
    "    plt.annotate(teamName, \n",
    "        xy = (df_new['salary'][df_new['teamID'] == teamName] / 1e6,  df_new['W'][df_new['teamID'] == teamName]), \n",
    "        xytext = (-20, 20), textcoords = 'offset points', ha = 'right', va = 'bottom',\n",
    "        bbox = dict(boxstyle = 'round,pad=0.5', fc = 'yellow', alpha = 0.5),\n",
    "        arrowprops = dict(arrowstyle = '->', facecolor = 'black' , connectionstyle = 'arc3,rad=0'))\n",
    "    plt.show()\n",
    "    "
   ]
  },
  {
   "cell_type": "markdown",
   "metadata": {},
   "source": [
    "#### Problem 1(e):\n",
    "\n",
    "**For AC209 Students**: Fit a linear regression to the data from each year and obtain the residuals. Plot the residuals against time to detect patterns that support your answer in 1(d). "
   ]
  },
  {
   "cell_type": "code",
   "execution_count": 8,
   "metadata": {},
   "outputs": [],
   "source": [
    "#your code here"
   ]
  },
  {
   "cell_type": "markdown",
   "metadata": {},
   "source": [
    "## Discussion for Problem 1\n",
    "\n",
    "*Write a brief discussion of your conclusions to the questions and tasks above in 100 words or less.*\n",
    "\n",
    "---\n"
   ]
  },
  {
   "cell_type": "markdown",
   "metadata": {},
   "source": [
    "## Problem 2\n",
    "\n",
    "Several media reports have demonstrated the income inequality has increased in the US during this last decade. Here we will look at global data. Use exploratory data analysis to determine if the gap between Africa/Latin America/Asia and Europe/NorthAmerica has increased, decreased or stayed the same during the last two decades. "
   ]
  },
  {
   "cell_type": "markdown",
   "metadata": {},
   "source": [
    "#### Problem 2(a)\n",
    "\n",
    "Using the list of countries by continent from [World Atlas](http://www.worldatlas.com/cntycont.htm) data, load in the `countries.csv` file into a pandas DataFrame and name this data set as `countries`.  This data set can be found on Github in the 2014_data repository [here](https://github.com/cs109/2014_data/blob/master/countries.csv). "
   ]
  },
  {
   "cell_type": "code",
   "execution_count": 5,
   "metadata": {},
   "outputs": [],
   "source": [
    "countries = pd.read_csv(\"https://raw.githubusercontent.com/cs109/2014_data/master/countries.csv\", header=0,\n",
    "               names=[\"country\", \"region\"])"
   ]
  },
  {
   "cell_type": "code",
   "execution_count": 6,
   "metadata": {},
   "outputs": [
    {
     "data": {
      "text/html": [
       "<div>\n",
       "<style scoped>\n",
       "    .dataframe tbody tr th:only-of-type {\n",
       "        vertical-align: middle;\n",
       "    }\n",
       "\n",
       "    .dataframe tbody tr th {\n",
       "        vertical-align: top;\n",
       "    }\n",
       "\n",
       "    .dataframe thead th {\n",
       "        text-align: right;\n",
       "    }\n",
       "</style>\n",
       "<table border=\"1\" class=\"dataframe\">\n",
       "  <thead>\n",
       "    <tr style=\"text-align: right;\">\n",
       "      <th></th>\n",
       "      <th>country</th>\n",
       "      <th>region</th>\n",
       "    </tr>\n",
       "  </thead>\n",
       "  <tbody>\n",
       "    <tr>\n",
       "      <th>0</th>\n",
       "      <td>Algeria</td>\n",
       "      <td>AFRICA</td>\n",
       "    </tr>\n",
       "    <tr>\n",
       "      <th>1</th>\n",
       "      <td>Angola</td>\n",
       "      <td>AFRICA</td>\n",
       "    </tr>\n",
       "    <tr>\n",
       "      <th>2</th>\n",
       "      <td>Benin</td>\n",
       "      <td>AFRICA</td>\n",
       "    </tr>\n",
       "    <tr>\n",
       "      <th>3</th>\n",
       "      <td>Botswana</td>\n",
       "      <td>AFRICA</td>\n",
       "    </tr>\n",
       "    <tr>\n",
       "      <th>4</th>\n",
       "      <td>Burkina</td>\n",
       "      <td>AFRICA</td>\n",
       "    </tr>\n",
       "  </tbody>\n",
       "</table>\n",
       "</div>"
      ],
      "text/plain": [
       "    country  region\n",
       "0   Algeria  AFRICA\n",
       "1    Angola  AFRICA\n",
       "2     Benin  AFRICA\n",
       "3  Botswana  AFRICA\n",
       "4   Burkina  AFRICA"
      ]
     },
     "execution_count": 6,
     "metadata": {},
     "output_type": "execute_result"
    }
   ],
   "source": [
    "countries.head()"
   ]
  },
  {
   "cell_type": "markdown",
   "metadata": {},
   "source": [
    "Using the [data available on Gapminder](http://www.gapminder.org/data/), load in the [Income per person (GDP/capita, PPP$ inflation-adjusted)](https://spreadsheets.google.com/pub?key=phAwcNAVuyj1jiMAkmq1iMg&gid=0) as a pandas DataFrame and name this data set as `income`.\n",
    "\n",
    "**Hint**: Consider using the pandas function `pandas.read_excel()` to read in the .xlsx file directly."
   ]
  },
  {
   "cell_type": "code",
   "execution_count": 7,
   "metadata": {},
   "outputs": [],
   "source": [
    "income = pd.read_csv(\"/users/ayush/Ayush/Machine Learning/CS 109/homework/files/hw-1-income_per_person_gdppercapita_ppp_inflation_adjusted.csv\", index_col='country')"
   ]
  },
  {
   "cell_type": "code",
   "execution_count": 8,
   "metadata": {},
   "outputs": [
    {
     "data": {
      "text/html": [
       "<div>\n",
       "<style scoped>\n",
       "    .dataframe tbody tr th:only-of-type {\n",
       "        vertical-align: middle;\n",
       "    }\n",
       "\n",
       "    .dataframe tbody tr th {\n",
       "        vertical-align: top;\n",
       "    }\n",
       "\n",
       "    .dataframe thead th {\n",
       "        text-align: right;\n",
       "    }\n",
       "</style>\n",
       "<table border=\"1\" class=\"dataframe\">\n",
       "  <thead>\n",
       "    <tr style=\"text-align: right;\">\n",
       "      <th></th>\n",
       "      <th>1800</th>\n",
       "      <th>1801</th>\n",
       "      <th>1802</th>\n",
       "      <th>1803</th>\n",
       "      <th>1804</th>\n",
       "      <th>1805</th>\n",
       "      <th>1806</th>\n",
       "      <th>1807</th>\n",
       "      <th>1808</th>\n",
       "      <th>1809</th>\n",
       "      <th>...</th>\n",
       "      <th>2009</th>\n",
       "      <th>2010</th>\n",
       "      <th>2011</th>\n",
       "      <th>2012</th>\n",
       "      <th>2013</th>\n",
       "      <th>2014</th>\n",
       "      <th>2015</th>\n",
       "      <th>2016</th>\n",
       "      <th>2017</th>\n",
       "      <th>2018</th>\n",
       "    </tr>\n",
       "    <tr>\n",
       "      <th>country</th>\n",
       "      <th></th>\n",
       "      <th></th>\n",
       "      <th></th>\n",
       "      <th></th>\n",
       "      <th></th>\n",
       "      <th></th>\n",
       "      <th></th>\n",
       "      <th></th>\n",
       "      <th></th>\n",
       "      <th></th>\n",
       "      <th></th>\n",
       "      <th></th>\n",
       "      <th></th>\n",
       "      <th></th>\n",
       "      <th></th>\n",
       "      <th></th>\n",
       "      <th></th>\n",
       "      <th></th>\n",
       "      <th></th>\n",
       "      <th></th>\n",
       "      <th></th>\n",
       "    </tr>\n",
       "  </thead>\n",
       "  <tbody>\n",
       "    <tr>\n",
       "      <th>Afghanistan</th>\n",
       "      <td>603</td>\n",
       "      <td>603</td>\n",
       "      <td>603</td>\n",
       "      <td>603</td>\n",
       "      <td>603</td>\n",
       "      <td>603</td>\n",
       "      <td>603</td>\n",
       "      <td>603</td>\n",
       "      <td>603</td>\n",
       "      <td>603</td>\n",
       "      <td>...</td>\n",
       "      <td>1530</td>\n",
       "      <td>1610</td>\n",
       "      <td>1660</td>\n",
       "      <td>1840</td>\n",
       "      <td>1810</td>\n",
       "      <td>1780</td>\n",
       "      <td>1750</td>\n",
       "      <td>1740</td>\n",
       "      <td>1800</td>\n",
       "      <td>1870</td>\n",
       "    </tr>\n",
       "    <tr>\n",
       "      <th>Albania</th>\n",
       "      <td>667</td>\n",
       "      <td>667</td>\n",
       "      <td>667</td>\n",
       "      <td>667</td>\n",
       "      <td>667</td>\n",
       "      <td>668</td>\n",
       "      <td>668</td>\n",
       "      <td>668</td>\n",
       "      <td>668</td>\n",
       "      <td>668</td>\n",
       "      <td>...</td>\n",
       "      <td>9530</td>\n",
       "      <td>9930</td>\n",
       "      <td>10200</td>\n",
       "      <td>10400</td>\n",
       "      <td>10500</td>\n",
       "      <td>10700</td>\n",
       "      <td>11000</td>\n",
       "      <td>11400</td>\n",
       "      <td>11900</td>\n",
       "      <td>12400</td>\n",
       "    </tr>\n",
       "    <tr>\n",
       "      <th>Algeria</th>\n",
       "      <td>715</td>\n",
       "      <td>716</td>\n",
       "      <td>717</td>\n",
       "      <td>718</td>\n",
       "      <td>719</td>\n",
       "      <td>720</td>\n",
       "      <td>721</td>\n",
       "      <td>722</td>\n",
       "      <td>723</td>\n",
       "      <td>724</td>\n",
       "      <td>...</td>\n",
       "      <td>12600</td>\n",
       "      <td>12900</td>\n",
       "      <td>13000</td>\n",
       "      <td>13200</td>\n",
       "      <td>13300</td>\n",
       "      <td>13500</td>\n",
       "      <td>13700</td>\n",
       "      <td>14000</td>\n",
       "      <td>13800</td>\n",
       "      <td>13700</td>\n",
       "    </tr>\n",
       "    <tr>\n",
       "      <th>Andorra</th>\n",
       "      <td>1200</td>\n",
       "      <td>1200</td>\n",
       "      <td>1200</td>\n",
       "      <td>1200</td>\n",
       "      <td>1210</td>\n",
       "      <td>1210</td>\n",
       "      <td>1210</td>\n",
       "      <td>1210</td>\n",
       "      <td>1220</td>\n",
       "      <td>1220</td>\n",
       "      <td>...</td>\n",
       "      <td>41700</td>\n",
       "      <td>39000</td>\n",
       "      <td>42000</td>\n",
       "      <td>41900</td>\n",
       "      <td>43700</td>\n",
       "      <td>44900</td>\n",
       "      <td>46600</td>\n",
       "      <td>48200</td>\n",
       "      <td>49800</td>\n",
       "      <td>51500</td>\n",
       "    </tr>\n",
       "    <tr>\n",
       "      <th>Angola</th>\n",
       "      <td>618</td>\n",
       "      <td>620</td>\n",
       "      <td>623</td>\n",
       "      <td>626</td>\n",
       "      <td>628</td>\n",
       "      <td>631</td>\n",
       "      <td>634</td>\n",
       "      <td>637</td>\n",
       "      <td>640</td>\n",
       "      <td>642</td>\n",
       "      <td>...</td>\n",
       "      <td>5910</td>\n",
       "      <td>5900</td>\n",
       "      <td>5910</td>\n",
       "      <td>6000</td>\n",
       "      <td>6190</td>\n",
       "      <td>6260</td>\n",
       "      <td>6230</td>\n",
       "      <td>6030</td>\n",
       "      <td>5940</td>\n",
       "      <td>5850</td>\n",
       "    </tr>\n",
       "  </tbody>\n",
       "</table>\n",
       "<p>5 rows × 219 columns</p>\n",
       "</div>"
      ],
      "text/plain": [
       "             1800  1801  1802  1803  1804  1805  1806  1807  1808  1809  \\\n",
       "country                                                                   \n",
       "Afghanistan   603   603   603   603   603   603   603   603   603   603   \n",
       "Albania       667   667   667   667   667   668   668   668   668   668   \n",
       "Algeria       715   716   717   718   719   720   721   722   723   724   \n",
       "Andorra      1200  1200  1200  1200  1210  1210  1210  1210  1220  1220   \n",
       "Angola        618   620   623   626   628   631   634   637   640   642   \n",
       "\n",
       "             ...     2009   2010   2011   2012   2013   2014   2015   2016  \\\n",
       "country      ...                                                             \n",
       "Afghanistan  ...     1530   1610   1660   1840   1810   1780   1750   1740   \n",
       "Albania      ...     9530   9930  10200  10400  10500  10700  11000  11400   \n",
       "Algeria      ...    12600  12900  13000  13200  13300  13500  13700  14000   \n",
       "Andorra      ...    41700  39000  42000  41900  43700  44900  46600  48200   \n",
       "Angola       ...     5910   5900   5910   6000   6190   6260   6230   6030   \n",
       "\n",
       "              2017   2018  \n",
       "country                    \n",
       "Afghanistan   1800   1870  \n",
       "Albania      11900  12400  \n",
       "Algeria      13800  13700  \n",
       "Andorra      49800  51500  \n",
       "Angola        5940   5850  \n",
       "\n",
       "[5 rows x 219 columns]"
      ]
     },
     "execution_count": 8,
     "metadata": {},
     "output_type": "execute_result"
    }
   ],
   "source": [
    "income.head()"
   ]
  },
  {
   "cell_type": "markdown",
   "metadata": {},
   "source": [
    "Transform the data set to have years as the rows and countries as the columns. Show the head of this data set when it is loaded. "
   ]
  },
  {
   "cell_type": "code",
   "execution_count": 9,
   "metadata": {},
   "outputs": [
    {
     "data": {
      "text/html": [
       "<div>\n",
       "<style scoped>\n",
       "    .dataframe tbody tr th:only-of-type {\n",
       "        vertical-align: middle;\n",
       "    }\n",
       "\n",
       "    .dataframe tbody tr th {\n",
       "        vertical-align: top;\n",
       "    }\n",
       "\n",
       "    .dataframe thead th {\n",
       "        text-align: right;\n",
       "    }\n",
       "</style>\n",
       "<table border=\"1\" class=\"dataframe\">\n",
       "  <thead>\n",
       "    <tr style=\"text-align: right;\">\n",
       "      <th>country</th>\n",
       "      <th>Afghanistan</th>\n",
       "      <th>Albania</th>\n",
       "      <th>Algeria</th>\n",
       "      <th>Andorra</th>\n",
       "      <th>Angola</th>\n",
       "      <th>Antigua and Barbuda</th>\n",
       "      <th>Argentina</th>\n",
       "      <th>Armenia</th>\n",
       "      <th>Australia</th>\n",
       "      <th>Austria</th>\n",
       "      <th>...</th>\n",
       "      <th>United Kingdom</th>\n",
       "      <th>United States</th>\n",
       "      <th>Uruguay</th>\n",
       "      <th>Uzbekistan</th>\n",
       "      <th>Vanuatu</th>\n",
       "      <th>Venezuela</th>\n",
       "      <th>Vietnam</th>\n",
       "      <th>Yemen</th>\n",
       "      <th>Zambia</th>\n",
       "      <th>Zimbabwe</th>\n",
       "    </tr>\n",
       "  </thead>\n",
       "  <tbody>\n",
       "    <tr>\n",
       "      <th>1800</th>\n",
       "      <td>603</td>\n",
       "      <td>667</td>\n",
       "      <td>715</td>\n",
       "      <td>1200</td>\n",
       "      <td>618</td>\n",
       "      <td>757</td>\n",
       "      <td>1510</td>\n",
       "      <td>514</td>\n",
       "      <td>814</td>\n",
       "      <td>1850</td>\n",
       "      <td>...</td>\n",
       "      <td>3430</td>\n",
       "      <td>2130</td>\n",
       "      <td>1760</td>\n",
       "      <td>502</td>\n",
       "      <td>585</td>\n",
       "      <td>682</td>\n",
       "      <td>861</td>\n",
       "      <td>877</td>\n",
       "      <td>663</td>\n",
       "      <td>869</td>\n",
       "    </tr>\n",
       "    <tr>\n",
       "      <th>1801</th>\n",
       "      <td>603</td>\n",
       "      <td>667</td>\n",
       "      <td>716</td>\n",
       "      <td>1200</td>\n",
       "      <td>620</td>\n",
       "      <td>757</td>\n",
       "      <td>1510</td>\n",
       "      <td>514</td>\n",
       "      <td>816</td>\n",
       "      <td>1850</td>\n",
       "      <td>...</td>\n",
       "      <td>3440</td>\n",
       "      <td>2170</td>\n",
       "      <td>1760</td>\n",
       "      <td>502</td>\n",
       "      <td>586</td>\n",
       "      <td>682</td>\n",
       "      <td>861</td>\n",
       "      <td>879</td>\n",
       "      <td>665</td>\n",
       "      <td>870</td>\n",
       "    </tr>\n",
       "    <tr>\n",
       "      <th>1802</th>\n",
       "      <td>603</td>\n",
       "      <td>667</td>\n",
       "      <td>717</td>\n",
       "      <td>1200</td>\n",
       "      <td>623</td>\n",
       "      <td>757</td>\n",
       "      <td>1510</td>\n",
       "      <td>514</td>\n",
       "      <td>818</td>\n",
       "      <td>1860</td>\n",
       "      <td>...</td>\n",
       "      <td>3450</td>\n",
       "      <td>2200</td>\n",
       "      <td>1760</td>\n",
       "      <td>502</td>\n",
       "      <td>586</td>\n",
       "      <td>682</td>\n",
       "      <td>861</td>\n",
       "      <td>882</td>\n",
       "      <td>667</td>\n",
       "      <td>871</td>\n",
       "    </tr>\n",
       "    <tr>\n",
       "      <th>1803</th>\n",
       "      <td>603</td>\n",
       "      <td>667</td>\n",
       "      <td>718</td>\n",
       "      <td>1200</td>\n",
       "      <td>626</td>\n",
       "      <td>757</td>\n",
       "      <td>1510</td>\n",
       "      <td>514</td>\n",
       "      <td>820</td>\n",
       "      <td>1870</td>\n",
       "      <td>...</td>\n",
       "      <td>3340</td>\n",
       "      <td>2170</td>\n",
       "      <td>1760</td>\n",
       "      <td>502</td>\n",
       "      <td>586</td>\n",
       "      <td>682</td>\n",
       "      <td>861</td>\n",
       "      <td>884</td>\n",
       "      <td>668</td>\n",
       "      <td>872</td>\n",
       "    </tr>\n",
       "    <tr>\n",
       "      <th>1804</th>\n",
       "      <td>603</td>\n",
       "      <td>667</td>\n",
       "      <td>719</td>\n",
       "      <td>1210</td>\n",
       "      <td>628</td>\n",
       "      <td>757</td>\n",
       "      <td>1510</td>\n",
       "      <td>514</td>\n",
       "      <td>822</td>\n",
       "      <td>1880</td>\n",
       "      <td>...</td>\n",
       "      <td>3290</td>\n",
       "      <td>2170</td>\n",
       "      <td>1760</td>\n",
       "      <td>503</td>\n",
       "      <td>586</td>\n",
       "      <td>682</td>\n",
       "      <td>861</td>\n",
       "      <td>887</td>\n",
       "      <td>670</td>\n",
       "      <td>873</td>\n",
       "    </tr>\n",
       "  </tbody>\n",
       "</table>\n",
       "<p>5 rows × 193 columns</p>\n",
       "</div>"
      ],
      "text/plain": [
       "country  Afghanistan  Albania  Algeria  Andorra  Angola  Antigua and Barbuda  \\\n",
       "1800             603      667      715     1200     618                  757   \n",
       "1801             603      667      716     1200     620                  757   \n",
       "1802             603      667      717     1200     623                  757   \n",
       "1803             603      667      718     1200     626                  757   \n",
       "1804             603      667      719     1210     628                  757   \n",
       "\n",
       "country  Argentina  Armenia  Australia  Austria    ...     United Kingdom  \\\n",
       "1800          1510      514        814     1850    ...               3430   \n",
       "1801          1510      514        816     1850    ...               3440   \n",
       "1802          1510      514        818     1860    ...               3450   \n",
       "1803          1510      514        820     1870    ...               3340   \n",
       "1804          1510      514        822     1880    ...               3290   \n",
       "\n",
       "country  United States  Uruguay  Uzbekistan  Vanuatu  Venezuela  Vietnam  \\\n",
       "1800              2130     1760         502      585        682      861   \n",
       "1801              2170     1760         502      586        682      861   \n",
       "1802              2200     1760         502      586        682      861   \n",
       "1803              2170     1760         502      586        682      861   \n",
       "1804              2170     1760         503      586        682      861   \n",
       "\n",
       "country  Yemen  Zambia  Zimbabwe  \n",
       "1800       877     663       869  \n",
       "1801       879     665       870  \n",
       "1802       882     667       871  \n",
       "1803       884     668       872  \n",
       "1804       887     670       873  \n",
       "\n",
       "[5 rows x 193 columns]"
      ]
     },
     "execution_count": 9,
     "metadata": {},
     "output_type": "execute_result"
    }
   ],
   "source": [
    "incomeTranspose = income.T\n",
    "incomeTranspose.head()"
   ]
  },
  {
   "cell_type": "markdown",
   "metadata": {},
   "source": [
    "#### Problem 2(b)\n",
    "\n",
    "Graphically display the distribution of income per person across all countries in the world for any given year (e.g. 2000).  What kind of plot would be best? "
   ]
  },
  {
   "cell_type": "code",
   "execution_count": 10,
   "metadata": {},
   "outputs": [
    {
     "data": {
      "image/png": "[encoded data removed]",
      "text/plain": [
       "<Figure size 432x288 with 1 Axes>"
      ]
     },
     "metadata": {},
     "output_type": "display_data"
    }
   ],
   "source": [
    "#your code here\n",
    "# histogram\n",
    "df_1800 = incomeTranspose.loc[['1800']]\n",
    "df_1800 = df_1800.dropna()\n",
    "plt.hist(df_1800, rwidth=0.9, bins=10)\n",
    "plt.xlabel('Income per person')\n",
    "plt.ylabel('Frequency')\n",
    "plt.show()"
   ]
  },
  {
   "cell_type": "markdown",
   "metadata": {},
   "source": [
    "#### Problem 2(c)\n",
    "\n",
    "Write a function to merge the `countries` and `income` data sets for any given year. "
   ]
  },
  {
   "cell_type": "code",
   "execution_count": 11,
   "metadata": {},
   "outputs": [],
   "source": [
    "\"\"\"\n",
    "Function\n",
    "--------\n",
    "mergeByYear\n",
    "\n",
    "Return a merged DataFrame containing the income, \n",
    "country name and region for a given year. \n",
    "\n",
    "Parameters\n",
    "----------\n",
    "year : int\n",
    "    The year of interest\n",
    "\n",
    "Returns\n",
    "-------\n",
    "a DataFrame\n",
    "   A pandas DataFrame with three columns titled \n",
    "   'Country', 'Region', and 'Income'. \n",
    "\n",
    "Example\n",
    "-------\n",
    ">>> mergeByYear(2010)\n",
    "\"\"\"\n",
    "#your code here\n",
    "def mergeByYear(year):\n",
    "    return pd.DataFrame.join(countries, income[year], on='country')\n",
    "    \n",
    "mergeByYear('1800').head()\n",
    "\n",
    "def mergeRegionAndIncome():\n",
    "    return pd.DataFrame.join(countries, income, on='country')\n"
   ]
  },
  {
   "cell_type": "markdown",
   "metadata": {},
   "source": [
    "#### Problem 2(d) \n",
    "\n",
    "Use exploratory data analysis tools such as histograms and boxplots to explore the distribution of the income per person by region data set from 2(c) for a given year. Describe how these change through the recent years?\n",
    "\n",
    "**Hint**: Use a `for` loop to consider multiple years.  "
   ]
  },
  {
   "cell_type": "code",
   "execution_count": 12,
   "metadata": {},
   "outputs": [
    {
     "name": "stdout",
     "output_type": "stream",
     "text": [
      "          region     1800\n",
      "0         AFRICA  31493.0\n",
      "1           ASIA  34773.0\n",
      "2         EUROPE  60114.0\n",
      "3  NORTH AMERICA  19806.0\n",
      "4        OCEANIA   9016.0\n",
      "5  SOUTH AMERICA  13322.0\n"
     ]
    },
    {
     "data": {
      "image/png": "[encoded data removed]",
      "text/plain": [
       "<Figure size 432x288 with 1 Axes>"
      ]
     },
     "metadata": {},
     "output_type": "display_data"
    }
   ],
   "source": [
    "#your code here\n",
    "\n",
    "df_year = mergeByYear('1800')\n",
    "grouped_data = df_year.groupby(df_year.region).sum()\n",
    "grouped_data.reset_index(inplace=True)\n",
    "grouped_data.plot(x='region', y='1800', kind='bar')\n",
    "print(grouped_data)\n",
    "plt.show()"
   ]
  },
  {
   "cell_type": "code",
   "execution_count": 13,
   "metadata": {},
   "outputs": [],
   "source": [
    " df = pd.DataFrame({\n",
    "      'pig': [20, 18, 489, 675, 1776],\n",
    "     'horse': [4, 25, 281, 600, 1900]\n",
    "        }, index=[1990, 1997, 2003, 2009, 2014])"
   ]
  },
  {
   "cell_type": "code",
   "execution_count": 14,
   "metadata": {},
   "outputs": [
    {
     "name": "stdout",
     "output_type": "stream",
     "text": [
      "       pig  horse\n",
      "1990    20      4\n",
      "1997    18     25\n",
      "2003   489    281\n",
      "2009   675    600\n",
      "2014  1776   1900\n"
     ]
    },
    {
     "data": {
      "image/png": "[encoded data removed]",
      "text/plain": [
       "<Figure size 432x288 with 1 Axes>"
      ]
     },
     "metadata": {},
     "output_type": "display_data"
    }
   ],
   "source": [
    "print(df.head())\n",
    "lines = df.plot.line()"
   ]
  },
  {
   "cell_type": "code",
   "execution_count": 15,
   "metadata": {},
   "outputs": [
    {
     "name": "stdout",
     "output_type": "stream",
     "text": [
      "                  1800\n",
      "region                \n",
      "AFRICA         31493.0\n",
      "ASIA           34773.0\n",
      "EUROPE         60114.0\n",
      "NORTH AMERICA  19806.0\n",
      "OCEANIA         9016.0\n"
     ]
    },
    {
     "data": {
      "text/html": [
       "<div>\n",
       "<style scoped>\n",
       "    .dataframe tbody tr th:only-of-type {\n",
       "        vertical-align: middle;\n",
       "    }\n",
       "\n",
       "    .dataframe tbody tr th {\n",
       "        vertical-align: top;\n",
       "    }\n",
       "\n",
       "    .dataframe thead th {\n",
       "        text-align: right;\n",
       "    }\n",
       "</style>\n",
       "<table border=\"1\" class=\"dataframe\">\n",
       "  <thead>\n",
       "    <tr style=\"text-align: right;\">\n",
       "      <th></th>\n",
       "      <th>1800</th>\n",
       "      <th>1801</th>\n",
       "      <th>1802</th>\n",
       "      <th>1803</th>\n",
       "      <th>1804</th>\n",
       "      <th>1805</th>\n",
       "      <th>1806</th>\n",
       "      <th>1807</th>\n",
       "      <th>1808</th>\n",
       "      <th>1809</th>\n",
       "      <th>...</th>\n",
       "      <th>2009</th>\n",
       "      <th>2010</th>\n",
       "      <th>2011</th>\n",
       "      <th>2012</th>\n",
       "      <th>2013</th>\n",
       "      <th>2014</th>\n",
       "      <th>2015</th>\n",
       "      <th>2016</th>\n",
       "      <th>2017</th>\n",
       "      <th>2018</th>\n",
       "    </tr>\n",
       "    <tr>\n",
       "      <th>region</th>\n",
       "      <th></th>\n",
       "      <th></th>\n",
       "      <th></th>\n",
       "      <th></th>\n",
       "      <th></th>\n",
       "      <th></th>\n",
       "      <th></th>\n",
       "      <th></th>\n",
       "      <th></th>\n",
       "      <th></th>\n",
       "      <th></th>\n",
       "      <th></th>\n",
       "      <th></th>\n",
       "      <th></th>\n",
       "      <th></th>\n",
       "      <th></th>\n",
       "      <th></th>\n",
       "      <th></th>\n",
       "      <th></th>\n",
       "      <th></th>\n",
       "      <th></th>\n",
       "    </tr>\n",
       "  </thead>\n",
       "  <tbody>\n",
       "    <tr>\n",
       "      <th>AFRICA</th>\n",
       "      <td>31493.0</td>\n",
       "      <td>31516.0</td>\n",
       "      <td>31542.0</td>\n",
       "      <td>31563.0</td>\n",
       "      <td>31589.0</td>\n",
       "      <td>31616.0</td>\n",
       "      <td>31642.0</td>\n",
       "      <td>31669.0</td>\n",
       "      <td>31691.0</td>\n",
       "      <td>31715.0</td>\n",
       "      <td>...</td>\n",
       "      <td>271570.0</td>\n",
       "      <td>274088.0</td>\n",
       "      <td>262649.0</td>\n",
       "      <td>279260.0</td>\n",
       "      <td>279541.0</td>\n",
       "      <td>277531.0</td>\n",
       "      <td>273680.0</td>\n",
       "      <td>276305.0</td>\n",
       "      <td>279654.0</td>\n",
       "      <td>284019.0</td>\n",
       "    </tr>\n",
       "    <tr>\n",
       "      <th>ASIA</th>\n",
       "      <td>34773.0</td>\n",
       "      <td>34784.0</td>\n",
       "      <td>34832.0</td>\n",
       "      <td>34835.0</td>\n",
       "      <td>34871.0</td>\n",
       "      <td>34917.0</td>\n",
       "      <td>34935.0</td>\n",
       "      <td>34961.0</td>\n",
       "      <td>34992.0</td>\n",
       "      <td>35018.0</td>\n",
       "      <td>...</td>\n",
       "      <td>820330.0</td>\n",
       "      <td>842130.0</td>\n",
       "      <td>863900.0</td>\n",
       "      <td>873350.0</td>\n",
       "      <td>878390.0</td>\n",
       "      <td>880950.0</td>\n",
       "      <td>884680.0</td>\n",
       "      <td>886100.0</td>\n",
       "      <td>899510.0</td>\n",
       "      <td>918980.0</td>\n",
       "    </tr>\n",
       "    <tr>\n",
       "      <th>EUROPE</th>\n",
       "      <td>60114.0</td>\n",
       "      <td>60089.0</td>\n",
       "      <td>60523.0</td>\n",
       "      <td>60417.0</td>\n",
       "      <td>60680.0</td>\n",
       "      <td>60614.0</td>\n",
       "      <td>60719.0</td>\n",
       "      <td>60552.0</td>\n",
       "      <td>60017.0</td>\n",
       "      <td>60064.0</td>\n",
       "      <td>...</td>\n",
       "      <td>1297230.0</td>\n",
       "      <td>1308510.0</td>\n",
       "      <td>1330690.0</td>\n",
       "      <td>1322170.0</td>\n",
       "      <td>1329060.0</td>\n",
       "      <td>1352920.0</td>\n",
       "      <td>1386730.0</td>\n",
       "      <td>1411450.0</td>\n",
       "      <td>1437970.0</td>\n",
       "      <td>1464120.0</td>\n",
       "    </tr>\n",
       "    <tr>\n",
       "      <th>NORTH AMERICA</th>\n",
       "      <td>19806.0</td>\n",
       "      <td>19868.0</td>\n",
       "      <td>19919.0</td>\n",
       "      <td>19910.0</td>\n",
       "      <td>19933.0</td>\n",
       "      <td>19995.0</td>\n",
       "      <td>20047.0</td>\n",
       "      <td>20090.0</td>\n",
       "      <td>19953.0</td>\n",
       "      <td>20084.0</td>\n",
       "      <td>...</td>\n",
       "      <td>309380.0</td>\n",
       "      <td>312790.0</td>\n",
       "      <td>316770.0</td>\n",
       "      <td>321980.0</td>\n",
       "      <td>325710.0</td>\n",
       "      <td>330830.0</td>\n",
       "      <td>335030.0</td>\n",
       "      <td>337160.0</td>\n",
       "      <td>342580.0</td>\n",
       "      <td>347920.0</td>\n",
       "    </tr>\n",
       "    <tr>\n",
       "      <th>OCEANIA</th>\n",
       "      <td>9016.0</td>\n",
       "      <td>9019.0</td>\n",
       "      <td>9023.0</td>\n",
       "      <td>9025.0</td>\n",
       "      <td>9030.0</td>\n",
       "      <td>9033.0</td>\n",
       "      <td>9037.0</td>\n",
       "      <td>9039.0</td>\n",
       "      <td>9044.0</td>\n",
       "      <td>9046.0</td>\n",
       "      <td>...</td>\n",
       "      <td>123490.0</td>\n",
       "      <td>125430.0</td>\n",
       "      <td>128690.0</td>\n",
       "      <td>131350.0</td>\n",
       "      <td>134160.0</td>\n",
       "      <td>138990.0</td>\n",
       "      <td>141080.0</td>\n",
       "      <td>143830.0</td>\n",
       "      <td>145930.0</td>\n",
       "      <td>147940.0</td>\n",
       "    </tr>\n",
       "  </tbody>\n",
       "</table>\n",
       "<p>5 rows × 219 columns</p>\n",
       "</div>"
      ],
      "text/plain": [
       "                  1800     1801     1802     1803     1804     1805     1806  \\\n",
       "region                                                                         \n",
       "AFRICA         31493.0  31516.0  31542.0  31563.0  31589.0  31616.0  31642.0   \n",
       "ASIA           34773.0  34784.0  34832.0  34835.0  34871.0  34917.0  34935.0   \n",
       "EUROPE         60114.0  60089.0  60523.0  60417.0  60680.0  60614.0  60719.0   \n",
       "NORTH AMERICA  19806.0  19868.0  19919.0  19910.0  19933.0  19995.0  20047.0   \n",
       "OCEANIA         9016.0   9019.0   9023.0   9025.0   9030.0   9033.0   9037.0   \n",
       "\n",
       "                  1807     1808     1809    ...           2009       2010  \\\n",
       "region                                      ...                             \n",
       "AFRICA         31669.0  31691.0  31715.0    ...       271570.0   274088.0   \n",
       "ASIA           34961.0  34992.0  35018.0    ...       820330.0   842130.0   \n",
       "EUROPE         60552.0  60017.0  60064.0    ...      1297230.0  1308510.0   \n",
       "NORTH AMERICA  20090.0  19953.0  20084.0    ...       309380.0   312790.0   \n",
       "OCEANIA         9039.0   9044.0   9046.0    ...       123490.0   125430.0   \n",
       "\n",
       "                    2011       2012       2013       2014       2015  \\\n",
       "region                                                                 \n",
       "AFRICA          262649.0   279260.0   279541.0   277531.0   273680.0   \n",
       "ASIA            863900.0   873350.0   878390.0   880950.0   884680.0   \n",
       "EUROPE         1330690.0  1322170.0  1329060.0  1352920.0  1386730.0   \n",
       "NORTH AMERICA   316770.0   321980.0   325710.0   330830.0   335030.0   \n",
       "OCEANIA         128690.0   131350.0   134160.0   138990.0   141080.0   \n",
       "\n",
       "                    2016       2017       2018  \n",
       "region                                          \n",
       "AFRICA          276305.0   279654.0   284019.0  \n",
       "ASIA            886100.0   899510.0   918980.0  \n",
       "EUROPE         1411450.0  1437970.0  1464120.0  \n",
       "NORTH AMERICA   337160.0   342580.0   347920.0  \n",
       "OCEANIA         143830.0   145930.0   147940.0  \n",
       "\n",
       "[5 rows x 219 columns]"
      ]
     },
     "execution_count": 15,
     "metadata": {},
     "output_type": "execute_result"
    }
   ],
   "source": [
    "df_income_region = mergeRegionAndIncome()\n",
    "line_df = df_year.groupby(df_year.region).sum()\n",
    "print(line_df.head())\n",
    "df_income_region.head()\n",
    "income_region_grouped = df_income_region.groupby(df_income_region.region).sum()\n",
    "income_region_grouped.head()"
   ]
  },
  {
   "cell_type": "code",
   "execution_count": 95,
   "metadata": {},
   "outputs": [
    {
     "name": "stdout",
     "output_type": "stream",
     "text": [
      "region   AFRICA     ASIA   EUROPE  NORTH AMERICA  OCEANIA  SOUTH AMERICA\n",
      "1800    31493.0  34773.0  60114.0        19806.0   9016.0        13322.0\n",
      "1801    31516.0  34784.0  60089.0        19868.0   9019.0        13322.0\n",
      "1802    31542.0  34832.0  60523.0        19919.0   9023.0        13322.0\n",
      "1803    31563.0  34835.0  60417.0        19910.0   9025.0        13333.0\n",
      "1804    31589.0  34871.0  60680.0        19933.0   9030.0        13334.0\n"
     ]
    },
    {
     "data": {
      "image/png": "[encoded data removed]",
      "text/plain": [
       "<Figure size 432x288 with 1 Axes>"
      ]
     },
     "metadata": {},
     "output_type": "display_data"
    }
   ],
   "source": [
    "#income_region_grouped.plot(x=income_region_grouped.columns, y=income_region_grouped.index)\n",
    "income_region_grouped_transposed = income_region_grouped.T\n",
    "income_region_grouped_transposed.plot.line()\n",
    "print(income_region_grouped_transposed.head())\n",
    "plt.title('Graph for the entire period available')\n",
    "plt.show()"
   ]
  },
  {
   "cell_type": "markdown",
   "metadata": {},
   "source": [
    "## Below Graph shows the data for last 100 years"
   ]
  },
  {
   "cell_type": "code",
   "execution_count": 79,
   "metadata": {},
   "outputs": [
    {
     "data": {
      "image/png": "[encoded data removed]",
      "text/plain": [
       "<Figure size 432x288 with 1 Axes>"
      ]
     },
     "metadata": {},
     "output_type": "display_data"
    }
   ],
   "source": [
    "new_df = income_region_grouped.iloc[-100:-1]\n",
    "new_df.plot.line()\n",
    "plt.title('Income Per Person in last century')\n",
    "plt.ylabel('Income')\n",
    "plt.xlabel('Year')\n",
    "plt.show()"
   ]
  },
  {
   "cell_type": "markdown",
   "metadata": {},
   "source": [
    "## Discussion for Problem 2\n",
    "\n",
    "*Write a brief discussion of your conclusions to the questions and tasks above in 100 words or less.*\n",
    "\n",
    "---\n"
   ]
  },
  {
   "cell_type": "markdown",
   "metadata": {},
   "source": [
    "## Problem 3\n",
    "\n",
    "In general, if group A has larger values than group B on average, does this mean the largest values are from group A? Discuss after completing each of the problems below. "
   ]
  },
  {
   "cell_type": "markdown",
   "metadata": {},
   "source": [
    "#### Problem 3(a)\n",
    "\n",
    "Assume you have two list of numbers, X and Y, with distribution approximately normal. X and Y have standard deviation equal to 1, but the average of X is different from the average of Y.  If the difference in the average of X and the average of Y is larger than 0, how does the proportion of X > a compare to the proportion of Y > a? "
   ]
  },
  {
   "cell_type": "markdown",
   "metadata": {},
   "source": [
    "Write a function that analytically calculates the ratio of these two proportions: Pr(X > a)/Pr(Y > a) as function of the difference in the average of X and the average of Y. \n",
    "\n",
    "**Hint**: Use the `scipy.stats` module for useful functions related to a normal random variable such as the probability density function, cumulative distribution function and survival function. \n",
    "\n",
    "**Update**: Assume Y is normally distributed with mean equal to 0. "
   ]
  },
  {
   "cell_type": "markdown",
   "metadata": {},
   "source": [
    "Show the curve for different values of a (a = 2,3,4 and 5)."
   ]
  },
  {
   "cell_type": "code",
   "execution_count": null,
   "metadata": {},
   "outputs": [],
   "source": [
    "\"\"\"\n",
    "Function\n",
    "--------\n",
    "ratioNormals\n",
    "\n",
    "Return ratio of these two proportions: \n",
    "    Pr(X > a)/Pr(Y > a) as function of \n",
    "    the difference in the average of X \n",
    "    and the average of Y. \n",
    "\n",
    "Parameters\n",
    "----------\n",
    "diff : difference in the average of X \n",
    "    and the average of Y. \n",
    "a : cutoff value\n",
    "\n",
    "Returns\n",
    "-------\n",
    "Returns ratio of these two proportions: \n",
    "    Pr(X > a)/Pr(Y > a)\n",
    "    \n",
    "Example\n",
    "-------\n",
    ">>> ratioNormals(diff = 1, a = 2)\n",
    "\"\"\"\n",
    "#your code here"
   ]
  },
  {
   "cell_type": "code",
   "execution_count": null,
   "metadata": {},
   "outputs": [],
   "source": [
    "#your code here"
   ]
  },
  {
   "cell_type": "markdown",
   "metadata": {},
   "source": [
    "#### Problem 3(b)\n",
    "\n",
    "Now consider the distribution of income per person from two regions: Asia and South America. Estimate the average income per person across the countries in those two regions. Which region has the larger average of income per person across the countries in that region? \n",
    "\n",
    "**Update**: Use the year 2012. "
   ]
  },
  {
   "cell_type": "code",
   "execution_count": null,
   "metadata": {},
   "outputs": [],
   "source": [
    "#your code here"
   ]
  },
  {
   "cell_type": "markdown",
   "metadata": {},
   "source": [
    "#### Problem 3(c) \n",
    "\n",
    "Calculate the proportion of countries with income per person that is greater than 10,000 dollars. Which region has a larger proportion of countries with income per person greater than 10,000 dollars? If the answer here is different from the answer in 3(b), explain why in light of your answer to 3(a).\n",
    "\n",
    "**Update**: Use the year 2012. "
   ]
  },
  {
   "cell_type": "code",
   "execution_count": null,
   "metadata": {},
   "outputs": [],
   "source": [
    "#your code here"
   ]
  },
  {
   "cell_type": "markdown",
   "metadata": {},
   "source": [
    "#### Problem 3(d)\n",
    "\n",
    "**For AC209 Students**: Re-run this analysis in Problem 3 but compute the average income per person for each region, instead of the average of the reported incomes per person across countries in the region. Why are these two different? Hint: use this [data set](https://spreadsheets.google.com/pub?key=phAwcNAVuyj0XOoBL_n5tAQ&gid=0). "
   ]
  },
  {
   "cell_type": "code",
   "execution_count": null,
   "metadata": {},
   "outputs": [],
   "source": [
    "#your code here"
   ]
  },
  {
   "cell_type": "markdown",
   "metadata": {},
   "source": [
    "## Discussion for Problem 3\n",
    "\n",
    "*Write a brief discussion of your conclusions to the questions and tasks above in 100 words or less.*\n",
    "\n",
    "---\n"
   ]
  }
 ],
 "metadata": {
  "kernelspec": {
   "display_name": "Python 3",
   "language": "python",
   "name": "python3"
  },
  "language_info": {
   "codemirror_mode": {
    "name": "ipython",
    "version": 3
   },
   "file_extension": ".py",
   "mimetype": "text/x-python",
   "name": "python",
   "nbconvert_exporter": "python",
   "pygments_lexer": "ipython3",
   "version": "3.6.5"
  }
 },
 "nbformat": 4,
 "nbformat_minor": 1
}
